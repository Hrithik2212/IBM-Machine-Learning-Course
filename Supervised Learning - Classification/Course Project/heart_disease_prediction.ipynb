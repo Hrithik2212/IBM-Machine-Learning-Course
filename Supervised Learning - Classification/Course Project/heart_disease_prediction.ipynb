{
 "cells": [
  {
   "cell_type": "markdown",
   "metadata": {},
   "source": [
    "# *Heart Disease Prediction* "
   ]
  },
  {
   "cell_type": "markdown",
   "metadata": {},
   "source": [
    "### Source - https://www.kaggle.com/datasets/kamilpytlak/personal-key-indicators-of-heart-disease"
   ]
  },
  {
   "cell_type": "markdown",
   "metadata": {},
   "source": [
    "### *Aim :* To predict wether the a Respondents will ever have coronary heart disease (CHD) or myocardial infarction (MI) "
   ]
  },
  {
   "cell_type": "code",
   "execution_count": 1,
   "metadata": {},
   "outputs": [],
   "source": [
    "# import libraries \n",
    "import pandas as pd \n",
    "import numpy as np\n",
    "import matplotlib.pyplot as plt \n",
    "import seaborn as sns "
   ]
  },
  {
   "cell_type": "code",
   "execution_count": 2,
   "metadata": {},
   "outputs": [
    {
     "data": {
      "text/html": [
       "<div>\n",
       "<style scoped>\n",
       "    .dataframe tbody tr th:only-of-type {\n",
       "        vertical-align: middle;\n",
       "    }\n",
       "\n",
       "    .dataframe tbody tr th {\n",
       "        vertical-align: top;\n",
       "    }\n",
       "\n",
       "    .dataframe thead th {\n",
       "        text-align: right;\n",
       "    }\n",
       "</style>\n",
       "<table border=\"1\" class=\"dataframe\">\n",
       "  <thead>\n",
       "    <tr style=\"text-align: right;\">\n",
       "      <th></th>\n",
       "      <th>HeartDisease</th>\n",
       "      <th>BMI</th>\n",
       "      <th>Smoking</th>\n",
       "      <th>AlcoholDrinking</th>\n",
       "      <th>Stroke</th>\n",
       "      <th>PhysicalHealth</th>\n",
       "      <th>MentalHealth</th>\n",
       "      <th>DiffWalking</th>\n",
       "      <th>Sex</th>\n",
       "      <th>AgeCategory</th>\n",
       "      <th>Race</th>\n",
       "      <th>Diabetic</th>\n",
       "      <th>PhysicalActivity</th>\n",
       "      <th>GenHealth</th>\n",
       "      <th>SleepTime</th>\n",
       "      <th>Asthma</th>\n",
       "      <th>KidneyDisease</th>\n",
       "      <th>SkinCancer</th>\n",
       "    </tr>\n",
       "  </thead>\n",
       "  <tbody>\n",
       "    <tr>\n",
       "      <th>0</th>\n",
       "      <td>No</td>\n",
       "      <td>16.60</td>\n",
       "      <td>Yes</td>\n",
       "      <td>No</td>\n",
       "      <td>No</td>\n",
       "      <td>3.0</td>\n",
       "      <td>30.0</td>\n",
       "      <td>No</td>\n",
       "      <td>Female</td>\n",
       "      <td>55-59</td>\n",
       "      <td>White</td>\n",
       "      <td>Yes</td>\n",
       "      <td>Yes</td>\n",
       "      <td>Very good</td>\n",
       "      <td>5.0</td>\n",
       "      <td>Yes</td>\n",
       "      <td>No</td>\n",
       "      <td>Yes</td>\n",
       "    </tr>\n",
       "    <tr>\n",
       "      <th>1</th>\n",
       "      <td>No</td>\n",
       "      <td>20.34</td>\n",
       "      <td>No</td>\n",
       "      <td>No</td>\n",
       "      <td>Yes</td>\n",
       "      <td>0.0</td>\n",
       "      <td>0.0</td>\n",
       "      <td>No</td>\n",
       "      <td>Female</td>\n",
       "      <td>80 or older</td>\n",
       "      <td>White</td>\n",
       "      <td>No</td>\n",
       "      <td>Yes</td>\n",
       "      <td>Very good</td>\n",
       "      <td>7.0</td>\n",
       "      <td>No</td>\n",
       "      <td>No</td>\n",
       "      <td>No</td>\n",
       "    </tr>\n",
       "    <tr>\n",
       "      <th>2</th>\n",
       "      <td>No</td>\n",
       "      <td>26.58</td>\n",
       "      <td>Yes</td>\n",
       "      <td>No</td>\n",
       "      <td>No</td>\n",
       "      <td>20.0</td>\n",
       "      <td>30.0</td>\n",
       "      <td>No</td>\n",
       "      <td>Male</td>\n",
       "      <td>65-69</td>\n",
       "      <td>White</td>\n",
       "      <td>Yes</td>\n",
       "      <td>Yes</td>\n",
       "      <td>Fair</td>\n",
       "      <td>8.0</td>\n",
       "      <td>Yes</td>\n",
       "      <td>No</td>\n",
       "      <td>No</td>\n",
       "    </tr>\n",
       "    <tr>\n",
       "      <th>3</th>\n",
       "      <td>No</td>\n",
       "      <td>24.21</td>\n",
       "      <td>No</td>\n",
       "      <td>No</td>\n",
       "      <td>No</td>\n",
       "      <td>0.0</td>\n",
       "      <td>0.0</td>\n",
       "      <td>No</td>\n",
       "      <td>Female</td>\n",
       "      <td>75-79</td>\n",
       "      <td>White</td>\n",
       "      <td>No</td>\n",
       "      <td>No</td>\n",
       "      <td>Good</td>\n",
       "      <td>6.0</td>\n",
       "      <td>No</td>\n",
       "      <td>No</td>\n",
       "      <td>Yes</td>\n",
       "    </tr>\n",
       "    <tr>\n",
       "      <th>4</th>\n",
       "      <td>No</td>\n",
       "      <td>23.71</td>\n",
       "      <td>No</td>\n",
       "      <td>No</td>\n",
       "      <td>No</td>\n",
       "      <td>28.0</td>\n",
       "      <td>0.0</td>\n",
       "      <td>Yes</td>\n",
       "      <td>Female</td>\n",
       "      <td>40-44</td>\n",
       "      <td>White</td>\n",
       "      <td>No</td>\n",
       "      <td>Yes</td>\n",
       "      <td>Very good</td>\n",
       "      <td>8.0</td>\n",
       "      <td>No</td>\n",
       "      <td>No</td>\n",
       "      <td>No</td>\n",
       "    </tr>\n",
       "    <tr>\n",
       "      <th>5</th>\n",
       "      <td>Yes</td>\n",
       "      <td>28.87</td>\n",
       "      <td>Yes</td>\n",
       "      <td>No</td>\n",
       "      <td>No</td>\n",
       "      <td>6.0</td>\n",
       "      <td>0.0</td>\n",
       "      <td>Yes</td>\n",
       "      <td>Female</td>\n",
       "      <td>75-79</td>\n",
       "      <td>Black</td>\n",
       "      <td>No</td>\n",
       "      <td>No</td>\n",
       "      <td>Fair</td>\n",
       "      <td>12.0</td>\n",
       "      <td>No</td>\n",
       "      <td>No</td>\n",
       "      <td>No</td>\n",
       "    </tr>\n",
       "    <tr>\n",
       "      <th>6</th>\n",
       "      <td>No</td>\n",
       "      <td>21.63</td>\n",
       "      <td>No</td>\n",
       "      <td>No</td>\n",
       "      <td>No</td>\n",
       "      <td>15.0</td>\n",
       "      <td>0.0</td>\n",
       "      <td>No</td>\n",
       "      <td>Female</td>\n",
       "      <td>70-74</td>\n",
       "      <td>White</td>\n",
       "      <td>No</td>\n",
       "      <td>Yes</td>\n",
       "      <td>Fair</td>\n",
       "      <td>4.0</td>\n",
       "      <td>Yes</td>\n",
       "      <td>No</td>\n",
       "      <td>Yes</td>\n",
       "    </tr>\n",
       "    <tr>\n",
       "      <th>7</th>\n",
       "      <td>No</td>\n",
       "      <td>31.64</td>\n",
       "      <td>Yes</td>\n",
       "      <td>No</td>\n",
       "      <td>No</td>\n",
       "      <td>5.0</td>\n",
       "      <td>0.0</td>\n",
       "      <td>Yes</td>\n",
       "      <td>Female</td>\n",
       "      <td>80 or older</td>\n",
       "      <td>White</td>\n",
       "      <td>Yes</td>\n",
       "      <td>No</td>\n",
       "      <td>Good</td>\n",
       "      <td>9.0</td>\n",
       "      <td>Yes</td>\n",
       "      <td>No</td>\n",
       "      <td>No</td>\n",
       "    </tr>\n",
       "    <tr>\n",
       "      <th>8</th>\n",
       "      <td>No</td>\n",
       "      <td>26.45</td>\n",
       "      <td>No</td>\n",
       "      <td>No</td>\n",
       "      <td>No</td>\n",
       "      <td>0.0</td>\n",
       "      <td>0.0</td>\n",
       "      <td>No</td>\n",
       "      <td>Female</td>\n",
       "      <td>80 or older</td>\n",
       "      <td>White</td>\n",
       "      <td>No, borderline diabetes</td>\n",
       "      <td>No</td>\n",
       "      <td>Fair</td>\n",
       "      <td>5.0</td>\n",
       "      <td>No</td>\n",
       "      <td>Yes</td>\n",
       "      <td>No</td>\n",
       "    </tr>\n",
       "    <tr>\n",
       "      <th>9</th>\n",
       "      <td>No</td>\n",
       "      <td>40.69</td>\n",
       "      <td>No</td>\n",
       "      <td>No</td>\n",
       "      <td>No</td>\n",
       "      <td>0.0</td>\n",
       "      <td>0.0</td>\n",
       "      <td>Yes</td>\n",
       "      <td>Male</td>\n",
       "      <td>65-69</td>\n",
       "      <td>White</td>\n",
       "      <td>No</td>\n",
       "      <td>Yes</td>\n",
       "      <td>Good</td>\n",
       "      <td>10.0</td>\n",
       "      <td>No</td>\n",
       "      <td>No</td>\n",
       "      <td>No</td>\n",
       "    </tr>\n",
       "  </tbody>\n",
       "</table>\n",
       "</div>"
      ],
      "text/plain": [
       "  HeartDisease    BMI Smoking AlcoholDrinking Stroke  PhysicalHealth  \\\n",
       "0           No  16.60     Yes              No     No             3.0   \n",
       "1           No  20.34      No              No    Yes             0.0   \n",
       "2           No  26.58     Yes              No     No            20.0   \n",
       "3           No  24.21      No              No     No             0.0   \n",
       "4           No  23.71      No              No     No            28.0   \n",
       "5          Yes  28.87     Yes              No     No             6.0   \n",
       "6           No  21.63      No              No     No            15.0   \n",
       "7           No  31.64     Yes              No     No             5.0   \n",
       "8           No  26.45      No              No     No             0.0   \n",
       "9           No  40.69      No              No     No             0.0   \n",
       "\n",
       "   MentalHealth DiffWalking     Sex  AgeCategory   Race  \\\n",
       "0          30.0          No  Female        55-59  White   \n",
       "1           0.0          No  Female  80 or older  White   \n",
       "2          30.0          No    Male        65-69  White   \n",
       "3           0.0          No  Female        75-79  White   \n",
       "4           0.0         Yes  Female        40-44  White   \n",
       "5           0.0         Yes  Female        75-79  Black   \n",
       "6           0.0          No  Female        70-74  White   \n",
       "7           0.0         Yes  Female  80 or older  White   \n",
       "8           0.0          No  Female  80 or older  White   \n",
       "9           0.0         Yes    Male        65-69  White   \n",
       "\n",
       "                  Diabetic PhysicalActivity  GenHealth  SleepTime Asthma  \\\n",
       "0                      Yes              Yes  Very good        5.0    Yes   \n",
       "1                       No              Yes  Very good        7.0     No   \n",
       "2                      Yes              Yes       Fair        8.0    Yes   \n",
       "3                       No               No       Good        6.0     No   \n",
       "4                       No              Yes  Very good        8.0     No   \n",
       "5                       No               No       Fair       12.0     No   \n",
       "6                       No              Yes       Fair        4.0    Yes   \n",
       "7                      Yes               No       Good        9.0    Yes   \n",
       "8  No, borderline diabetes               No       Fair        5.0     No   \n",
       "9                       No              Yes       Good       10.0     No   \n",
       "\n",
       "  KidneyDisease SkinCancer  \n",
       "0            No        Yes  \n",
       "1            No         No  \n",
       "2            No         No  \n",
       "3            No        Yes  \n",
       "4            No         No  \n",
       "5            No         No  \n",
       "6            No        Yes  \n",
       "7            No         No  \n",
       "8           Yes         No  \n",
       "9            No         No  "
      ]
     },
     "execution_count": 2,
     "metadata": {},
     "output_type": "execute_result"
    }
   ],
   "source": [
    "# Read the database\n",
    "filepath = 'heart_2020_cleaned.csv' \n",
    "data = pd.read_csv(filepath)\n",
    "data.head(10)"
   ]
  },
  {
   "cell_type": "markdown",
   "metadata": {},
   "source": [
    "## *Data Exploration*"
   ]
  },
  {
   "cell_type": "markdown",
   "metadata": {},
   "source": [
    "#### Data Description\n",
    "* HeartDisease: Respondents that have ever reported having coronary heart disease (CHD) or myocardial infarction (MI).\n",
    "* BMI: Body Mass Index (BMI).\n",
    "* Smoking: Have you smoked at least 100 cigarettes in your entire life?\n",
    "* AlcoholDrinking: Heavy drinkers (adult men having more than 14 drinks per week and adult women having more than 7 drinks per week\n",
    "* Stroke: (Ever told) (you had) a stroke?\n",
    "* PhysicalHealth: Now thinking about your physical health, which includes physical illness and injury, for how many days during the past 30 days was your physical health not good? (0-30 days).\n",
    "* MentalHealth: Thinking about your mental health, for how many days during the past 30 days was your mental health not good? (0-30 days).\n",
    "* DiffWalking: Do you have serious difficulty walking or climbing stairs?\n",
    "* Sex: Are you male or female?\n",
    "* AgeCategory: Fourteen-level age category. (then calculated the mean)\n",
    "* Race: Imputed race/ethnicity value.\n",
    "* Diabetic: (Ever told) (you had) diabetes?\n",
    "* PhysicalActivity: Adults who reported doing physical activity or exercise during the past 30 days other than their regular job.\n",
    "* GenHealth: Would you say that in general your health is...\n",
    "* SleepTime: On average, how many hours of sleep do you get in a 24-hour period?\n",
    "* Asthma: (Ever told) (you had) asthma?\n",
    "* KidneyDisease: Not including kidney stones, bladder infection or incontinence, were you ever told you had kidney disease?\n",
    "* SkinCancer: (Ever told) (you had) skin cancer?"
   ]
  },
  {
   "cell_type": "code",
   "execution_count": 3,
   "metadata": {},
   "outputs": [
    {
     "name": "stdout",
     "output_type": "stream",
     "text": [
      "<class 'pandas.core.frame.DataFrame'>\n",
      "RangeIndex: 319795 entries, 0 to 319794\n",
      "Data columns (total 18 columns):\n",
      " #   Column            Non-Null Count   Dtype  \n",
      "---  ------            --------------   -----  \n",
      " 0   HeartDisease      319795 non-null  object \n",
      " 1   BMI               319795 non-null  float64\n",
      " 2   Smoking           319795 non-null  object \n",
      " 3   AlcoholDrinking   319795 non-null  object \n",
      " 4   Stroke            319795 non-null  object \n",
      " 5   PhysicalHealth    319795 non-null  float64\n",
      " 6   MentalHealth      319795 non-null  float64\n",
      " 7   DiffWalking       319795 non-null  object \n",
      " 8   Sex               319795 non-null  object \n",
      " 9   AgeCategory       319795 non-null  object \n",
      " 10  Race              319795 non-null  object \n",
      " 11  Diabetic          319795 non-null  object \n",
      " 12  PhysicalActivity  319795 non-null  object \n",
      " 13  GenHealth         319795 non-null  object \n",
      " 14  SleepTime         319795 non-null  float64\n",
      " 15  Asthma            319795 non-null  object \n",
      " 16  KidneyDisease     319795 non-null  object \n",
      " 17  SkinCancer        319795 non-null  object \n",
      "dtypes: float64(4), object(14)\n",
      "memory usage: 43.9+ MB\n"
     ]
    }
   ],
   "source": [
    "data.info()\n",
    "# The data is aldready preprocessed"
   ]
  },
  {
   "cell_type": "markdown",
   "metadata": {},
   "source": [
    "## *Data Precprocessing*"
   ]
  },
  {
   "cell_type": "code",
   "execution_count": 4,
   "metadata": {},
   "outputs": [],
   "source": [
    "encode_AgeCategory = {'55-59':57, '80 or older':80, '65-69':67,\n",
    "                      '75-79':77,'40-44':42,'70-74':72,'60-64':62,\n",
    "                      '50-54':52,'45-49':47,'18-24':21,'35-39':37,\n",
    "                      '30-34':32,'25-29':27}\n",
    "data['AgeCategory'] = data['AgeCategory'].apply(lambda x: encode_AgeCategory[x])"
   ]
  },
  {
   "cell_type": "code",
   "execution_count": 5,
   "metadata": {},
   "outputs": [
    {
     "data": {
      "text/html": [
       "<div>\n",
       "<style scoped>\n",
       "    .dataframe tbody tr th:only-of-type {\n",
       "        vertical-align: middle;\n",
       "    }\n",
       "\n",
       "    .dataframe tbody tr th {\n",
       "        vertical-align: top;\n",
       "    }\n",
       "\n",
       "    .dataframe thead th {\n",
       "        text-align: right;\n",
       "    }\n",
       "</style>\n",
       "<table border=\"1\" class=\"dataframe\">\n",
       "  <thead>\n",
       "    <tr style=\"text-align: right;\">\n",
       "      <th></th>\n",
       "      <th>count</th>\n",
       "      <th>mean</th>\n",
       "      <th>std</th>\n",
       "      <th>min</th>\n",
       "      <th>25%</th>\n",
       "      <th>50%</th>\n",
       "      <th>75%</th>\n",
       "      <th>max</th>\n",
       "    </tr>\n",
       "  </thead>\n",
       "  <tbody>\n",
       "    <tr>\n",
       "      <th>BMI</th>\n",
       "      <td>319795.0</td>\n",
       "      <td>28.325399</td>\n",
       "      <td>6.356100</td>\n",
       "      <td>12.02</td>\n",
       "      <td>24.03</td>\n",
       "      <td>27.34</td>\n",
       "      <td>31.42</td>\n",
       "      <td>94.85</td>\n",
       "    </tr>\n",
       "    <tr>\n",
       "      <th>PhysicalHealth</th>\n",
       "      <td>319795.0</td>\n",
       "      <td>3.371710</td>\n",
       "      <td>7.950850</td>\n",
       "      <td>0.00</td>\n",
       "      <td>0.00</td>\n",
       "      <td>0.00</td>\n",
       "      <td>2.00</td>\n",
       "      <td>30.00</td>\n",
       "    </tr>\n",
       "    <tr>\n",
       "      <th>MentalHealth</th>\n",
       "      <td>319795.0</td>\n",
       "      <td>3.898366</td>\n",
       "      <td>7.955235</td>\n",
       "      <td>0.00</td>\n",
       "      <td>0.00</td>\n",
       "      <td>0.00</td>\n",
       "      <td>3.00</td>\n",
       "      <td>30.00</td>\n",
       "    </tr>\n",
       "    <tr>\n",
       "      <th>AgeCategory</th>\n",
       "      <td>319795.0</td>\n",
       "      <td>54.355759</td>\n",
       "      <td>17.720429</td>\n",
       "      <td>21.00</td>\n",
       "      <td>42.00</td>\n",
       "      <td>57.00</td>\n",
       "      <td>67.00</td>\n",
       "      <td>80.00</td>\n",
       "    </tr>\n",
       "    <tr>\n",
       "      <th>SleepTime</th>\n",
       "      <td>319795.0</td>\n",
       "      <td>7.097075</td>\n",
       "      <td>1.436007</td>\n",
       "      <td>1.00</td>\n",
       "      <td>6.00</td>\n",
       "      <td>7.00</td>\n",
       "      <td>8.00</td>\n",
       "      <td>24.00</td>\n",
       "    </tr>\n",
       "  </tbody>\n",
       "</table>\n",
       "</div>"
      ],
      "text/plain": [
       "                   count       mean        std    min    25%    50%    75%  \\\n",
       "BMI             319795.0  28.325399   6.356100  12.02  24.03  27.34  31.42   \n",
       "PhysicalHealth  319795.0   3.371710   7.950850   0.00   0.00   0.00   2.00   \n",
       "MentalHealth    319795.0   3.898366   7.955235   0.00   0.00   0.00   3.00   \n",
       "AgeCategory     319795.0  54.355759  17.720429  21.00  42.00  57.00  67.00   \n",
       "SleepTime       319795.0   7.097075   1.436007   1.00   6.00   7.00   8.00   \n",
       "\n",
       "                  max  \n",
       "BMI             94.85  \n",
       "PhysicalHealth  30.00  \n",
       "MentalHealth    30.00  \n",
       "AgeCategory     80.00  \n",
       "SleepTime       24.00  "
      ]
     },
     "execution_count": 5,
     "metadata": {},
     "output_type": "execute_result"
    }
   ],
   "source": [
    "# Column Statistics (of numerical data) \n",
    "data.describe().T"
   ]
  },
  {
   "cell_type": "code",
   "execution_count": 6,
   "metadata": {},
   "outputs": [
    {
     "data": {
      "text/plain": [
       "array(['Yes', 'No', 'No, borderline diabetes', 'Yes (during pregnancy)'],\n",
       "      dtype=object)"
      ]
     },
     "execution_count": 6,
     "metadata": {},
     "output_type": "execute_result"
    }
   ],
   "source": [
    "# fortunately There are no numerical outliers in the given dataset \n",
    "data.Diabetic.unique()"
   ]
  },
  {
   "cell_type": "code",
   "execution_count": 7,
   "metadata": {},
   "outputs": [
    {
     "data": {
      "text/plain": [
       "array(['Yes', 'No'], dtype=object)"
      ]
     },
     "execution_count": 7,
     "metadata": {},
     "output_type": "execute_result"
    }
   ],
   "source": [
    "def Diabetic_ch(x):\n",
    "    if 'Yes' in x:\n",
    "        return 'Yes'\n",
    "    elif 'No' in x:\n",
    "        return 'No'\n",
    "    else:\n",
    "        return 'No'\n",
    "data['Diabetic']=data.Diabetic.apply(Diabetic_ch)\n",
    "data.Diabetic.unique()"
   ]
  },
  {
   "cell_type": "code",
   "execution_count": 8,
   "metadata": {},
   "outputs": [
    {
     "name": "stdout",
     "output_type": "stream",
     "text": [
      "Name \t\t Counts \t Values \n",
      "HeartDisease 2 ['No', 'Yes']\n",
      "Smoking 2 ['Yes', 'No']\n",
      "AlcoholDrinking 2 ['No', 'Yes']\n",
      "Stroke 2 ['No', 'Yes']\n",
      "DiffWalking 2 ['No', 'Yes']\n",
      "Sex 2 ['Female', 'Male']\n",
      "Race 6 ['White', 'Black', 'Asian', 'American Indian/Alaskan Native', 'Other', 'Hispanic']\n",
      "Diabetic 2 ['Yes', 'No']\n",
      "PhysicalActivity 2 ['Yes', 'No']\n",
      "GenHealth 5 ['Very good', 'Fair', 'Good', 'Poor', 'Excellent']\n",
      "Asthma 2 ['Yes', 'No']\n",
      "KidneyDisease 2 ['No', 'Yes']\n",
      "SkinCancer 2 ['Yes', 'No']\n"
     ]
    }
   ],
   "source": [
    "print(\"Name \\t\\t Counts \\t Values \")\n",
    "for col in list(data.columns[data.dtypes==object]):\n",
    "    print(col , len(data[col].unique()) , list(data[col].unique()) )\n",
    "    "
   ]
  },
  {
   "cell_type": "code",
   "execution_count": 9,
   "metadata": {},
   "outputs": [],
   "source": [
    "encode_GenHealth = {'Very good':4, 'Fair':2, 'Good':3, 'Poor':1, 'Excellent':5}\n",
    "data['GenHealth'] = data['GenHealth'].apply(lambda x: encode_GenHealth[x])"
   ]
  },
  {
   "cell_type": "code",
   "execution_count": 10,
   "metadata": {},
   "outputs": [],
   "source": [
    "from sklearn.preprocessing import LabelEncoder\n",
    "for col in data.columns:\n",
    "        if data[col].dtype == 'O':\n",
    "            le = LabelEncoder()\n",
    "            data[col] = le.fit_transform(data[col])"
   ]
  },
  {
   "cell_type": "code",
   "execution_count": 11,
   "metadata": {},
   "outputs": [
    {
     "name": "stdout",
     "output_type": "stream",
     "text": [
      "<class 'pandas.core.frame.DataFrame'>\n",
      "RangeIndex: 319795 entries, 0 to 319794\n",
      "Data columns (total 18 columns):\n",
      " #   Column            Non-Null Count   Dtype  \n",
      "---  ------            --------------   -----  \n",
      " 0   HeartDisease      319795 non-null  int32  \n",
      " 1   BMI               319795 non-null  float64\n",
      " 2   Smoking           319795 non-null  int32  \n",
      " 3   AlcoholDrinking   319795 non-null  int32  \n",
      " 4   Stroke            319795 non-null  int32  \n",
      " 5   PhysicalHealth    319795 non-null  float64\n",
      " 6   MentalHealth      319795 non-null  float64\n",
      " 7   DiffWalking       319795 non-null  int32  \n",
      " 8   Sex               319795 non-null  int32  \n",
      " 9   AgeCategory       319795 non-null  int64  \n",
      " 10  Race              319795 non-null  int32  \n",
      " 11  Diabetic          319795 non-null  int32  \n",
      " 12  PhysicalActivity  319795 non-null  int32  \n",
      " 13  GenHealth         319795 non-null  int64  \n",
      " 14  SleepTime         319795 non-null  float64\n",
      " 15  Asthma            319795 non-null  int32  \n",
      " 16  KidneyDisease     319795 non-null  int32  \n",
      " 17  SkinCancer        319795 non-null  int32  \n",
      "dtypes: float64(4), int32(12), int64(2)\n",
      "memory usage: 29.3 MB\n"
     ]
    }
   ],
   "source": [
    "data.info()"
   ]
  },
  {
   "cell_type": "markdown",
   "metadata": {},
   "source": [
    "## *EDA*"
   ]
  },
  {
   "cell_type": "markdown",
   "metadata": {},
   "source": [
    "### *Correlation analysis*"
   ]
  },
  {
   "cell_type": "code",
   "execution_count": 12,
   "metadata": {},
   "outputs": [
    {
     "data": {
      "text/plain": [
       "<AxesSubplot:>"
      ]
     },
     "execution_count": 12,
     "metadata": {},
     "output_type": "execute_result"
    },
    {
     "data": {
      "image/png": "[encoded data removed]",
      "text/plain": [
       "<Figure size 1008x1008 with 2 Axes>"
      ]
     },
     "metadata": {
      "needs_background": "light"
     },
     "output_type": "display_data"
    }
   ],
   "source": [
    "feature_cols = data.columns[1:]\n",
    "corr_values = data[feature_cols].corr()\n",
    "plt.figure(figsize=(14,14))\n",
    "sns.heatmap(corr_values)"
   ]
  },
  {
   "cell_type": "markdown",
   "metadata": {},
   "source": [
    "##### We can notice a higher correlation of 0.5 between physical health and difficulty in walking which kinda makes sense"
   ]
  },
  {
   "cell_type": "code",
   "execution_count": 13,
   "metadata": {},
   "outputs": [
    {
     "data": {
      "text/plain": [
       "<AxesSubplot:title={'center':'Distribution of correlation of features'}>"
      ]
     },
     "execution_count": 13,
     "metadata": {},
     "output_type": "execute_result"
    },
    {
     "data": {
      "image/png": "[encoded data removed]",
      "text/plain": [
       "<Figure size 936x432 with 1 Axes>"
      ]
     },
     "metadata": {
      "needs_background": "light"
     },
     "output_type": "display_data"
    }
   ],
   "source": [
    "plt.figure(figsize = (13,6))\n",
    "plt.title('Distribution of correlation of features')\n",
    "abs(data.corr()['HeartDisease']).sort_values()[:-1].plot.barh()"
   ]
  },
  {
   "cell_type": "markdown",
   "metadata": {},
   "source": [
    "### *Analysis on Target Variablle*"
   ]
  },
  {
   "cell_type": "code",
   "execution_count": 14,
   "metadata": {},
   "outputs": [
    {
     "data": {
      "text/plain": [
       "0    0.914405\n",
       "1    0.085595\n",
       "Name: HeartDisease, dtype: float64"
      ]
     },
     "execution_count": 14,
     "metadata": {},
     "output_type": "execute_result"
    },
    {
     "data": {
      "image/png": "[encoded data removed]",
      "text/plain": [
       "<Figure size 432x288 with 1 Axes>"
      ]
     },
     "metadata": {},
     "output_type": "display_data"
    }
   ],
   "source": [
    "ax=data['HeartDisease'].value_counts(normalize=True).plot(kind='pie')\n",
    "data['HeartDisease'].value_counts(normalize=True)\n",
    "# We can see that the target variable is skewed and thus we will have to use stratified shuffle split "
   ]
  },
  {
   "cell_type": "markdown",
   "metadata": {},
   "source": [
    "### *Train Test Slpit*"
   ]
  },
  {
   "cell_type": "code",
   "execution_count": 15,
   "metadata": {},
   "outputs": [],
   "source": [
    "feature_cols = list(data.columns[1:])"
   ]
  },
  {
   "cell_type": "code",
   "execution_count": 16,
   "metadata": {},
   "outputs": [],
   "source": [
    "from sklearn.model_selection import StratifiedShuffleSplit\n",
    "\n",
    "# Get the split indexes\n",
    "strat_shuf_split = StratifiedShuffleSplit(n_splits=1,\n",
    "                                            test_size=0.3,\n",
    "                                            random_state=42)   \n",
    "\n",
    "train_idx , test_idx = next(strat_shuf_split.split( data[feature_cols] , data.HeartDisease))\n",
    "\n"
   ]
  },
  {
   "cell_type": "code",
   "execution_count": 17,
   "metadata": {},
   "outputs": [],
   "source": [
    "X_train = data.loc[train_idx, feature_cols]\n",
    "y_train = data.loc[train_idx, 'HeartDisease']\n",
    "\n",
    "X_test  = data.loc[test_idx, feature_cols]\n",
    "y_test  = data.loc[test_idx, 'HeartDisease']"
   ]
  },
  {
   "cell_type": "code",
   "execution_count": 18,
   "metadata": {},
   "outputs": [
    {
     "name": "stdout",
     "output_type": "stream",
     "text": [
      "0    0.914405\n",
      "1    0.085595\n",
      "Name: HeartDisease, dtype: float64\n"
     ]
    },
    {
     "data": {
      "text/plain": [
       "0    0.914404\n",
       "1    0.085596\n",
       "Name: HeartDisease, dtype: float64"
      ]
     },
     "execution_count": 18,
     "metadata": {},
     "output_type": "execute_result"
    }
   ],
   "source": [
    "# Checking \n",
    "print(y_train.value_counts(normalize=True))\n",
    "y_test.value_counts(normalize=True)"
   ]
  },
  {
   "cell_type": "markdown",
   "metadata": {},
   "source": [
    "# *Model Training*"
   ]
  },
  {
   "cell_type": "markdown",
   "metadata": {},
   "source": [
    "### Logistic Regression"
   ]
  },
  {
   "cell_type": "code",
   "execution_count": 19,
   "metadata": {},
   "outputs": [
    {
     "name": "stderr",
     "output_type": "stream",
     "text": [
      "D:\\Computer science\\lib\\site-packages\\sklearn\\linear_model\\_logistic.py:814: ConvergenceWarning: lbfgs failed to converge (status=1):\n",
      "STOP: TOTAL NO. of ITERATIONS REACHED LIMIT.\n",
      "\n",
      "Increase the number of iterations (max_iter) or scale the data as shown in:\n",
      "    https://scikit-learn.org/stable/modules/preprocessing.html\n",
      "Please also refer to the documentation for alternative solver options:\n",
      "    https://scikit-learn.org/stable/modules/linear_model.html#logistic-regression\n",
      "  n_iter_i = _check_optimize_result(\n"
     ]
    }
   ],
   "source": [
    "## Simple Logistic Regression\n",
    "\n",
    "from sklearn.linear_model import LogisticRegression\n",
    "lr = LogisticRegression(class_weight={0:1 , 1:20})\n",
    "lr.fit(X_train,y_train)\n",
    "y_pred = lr.predict(X_test)"
   ]
  },
  {
   "cell_type": "code",
   "execution_count": 20,
   "metadata": {},
   "outputs": [
    {
     "data": {
      "text/plain": [
       "array([[52142, 35585],\n",
       "       [  883,  7329]], dtype=int64)"
      ]
     },
     "execution_count": 20,
     "metadata": {},
     "output_type": "execute_result"
    }
   ],
   "source": [
    "from sklearn.metrics import precision_recall_fscore_support as score\n",
    "from sklearn.metrics import confusion_matrix, accuracy_score, roc_auc_score\n",
    "\n",
    "confusion_matrix(y_test,y_pred)"
   ]
  },
  {
   "cell_type": "code",
   "execution_count": 21,
   "metadata": {},
   "outputs": [
    {
     "name": "stdout",
     "output_type": "stream",
     "text": [
      "              precision    recall  f1-score   support\n",
      "\n",
      "           0       0.98      0.59      0.74     87727\n",
      "           1       0.17      0.89      0.29      8212\n",
      "\n",
      "    accuracy                           0.62     95939\n",
      "   macro avg       0.58      0.74      0.51     95939\n",
      "weighted avg       0.91      0.62      0.70     95939\n",
      "\n",
      "Accuracy score:  0.62\n",
      "F1 Score:  0.29\n"
     ]
    }
   ],
   "source": [
    "from sklearn.metrics import  classification_report, f1_score\n",
    "print(classification_report(y_test, y_pred))\n",
    "print('Accuracy score: ', round(accuracy_score(y_test, y_pred), 2))\n",
    "print('F1 Score: ', round(f1_score(y_test, y_pred), 2))"
   ]
  },
  {
   "cell_type": "code",
   "execution_count": 22,
   "metadata": {},
   "outputs": [
    {
     "data": {
      "text/plain": [
       "Text(0.5, 69.0, 'Prediction ')"
      ]
     },
     "execution_count": 22,
     "metadata": {},
     "output_type": "execute_result"
    },
    {
     "data": {
      "image/png": "[encoded data removed]",
      "text/plain": [
       "<Figure size 720x720 with 2 Axes>"
      ]
     },
     "metadata": {
      "needs_background": "light"
     },
     "output_type": "display_data"
    }
   ],
   "source": [
    "# Plot confusion matrix\n",
    "sns.set_palette(sns.color_palette(\"husl\", 9))\n",
    "_, ax = plt.subplots(figsize=(10,10))\n",
    "ax = sns.heatmap(confusion_matrix(y_test, y_pred), \n",
    "                    annot=True, fmt='d',\n",
    "                    cmap=sns.color_palette(\"husl\", 9), \n",
    "                    annot_kws={\"size\": 40, \"weight\": \"bold\"}\n",
    "                    )  \n",
    "labels = ['No Disease', 'Disease']\n",
    "ax.set_xticklabels(labels, fontsize=25);\n",
    "ax.set_yticklabels(labels, fontsize=25);\n",
    "ax.set_ylabel('Grounth Truth', fontsize=30);\n",
    "ax.set_xlabel('Prediction ', fontsize=30)\n",
    "### END SOLUTION"
   ]
  },
  {
   "cell_type": "markdown",
   "metadata": {},
   "source": [
    "### Linear SVM"
   ]
  },
  {
   "cell_type": "code",
   "execution_count": 44,
   "metadata": {},
   "outputs": [
    {
     "name": "stderr",
     "output_type": "stream",
     "text": [
      "D:\\Computer science\\lib\\site-packages\\sklearn\\svm\\_base.py:1206: ConvergenceWarning: Liblinear failed to converge, increase the number of iterations.\n",
      "  warnings.warn(\n"
     ]
    }
   ],
   "source": [
    "## Linear SVM \n",
    "from sklearn.svm import LinearSVC\n",
    "svm = LinearSVC(class_weight={0:1 , 1:10})\n",
    "svm.fit(X_train,y_train) \n",
    "svm_pred = svm.predict(X_test)\n"
   ]
  },
  {
   "cell_type": "code",
   "execution_count": 24,
   "metadata": {},
   "outputs": [
    {
     "name": "stdout",
     "output_type": "stream",
     "text": [
      "              precision    recall  f1-score   support\n",
      "\n",
      "           0       0.99      0.23      0.37     87727\n",
      "           1       0.11      0.99      0.19      8212\n",
      "\n",
      "    accuracy                           0.29     95939\n",
      "   macro avg       0.55      0.61      0.28     95939\n",
      "weighted avg       0.92      0.29      0.35     95939\n",
      "\n",
      "Accuracy score:  0.29\n",
      "F1 Score:  0\n"
     ]
    }
   ],
   "source": [
    "\n",
    "print(classification_report(y_test, svm_pred))\n",
    "print('Accuracy score: ', round(accuracy_score(y_test, svm_pred), 2))\n",
    "print('F1 Score: ', round(f1_score(y_test, svm_pred)))"
   ]
  },
  {
   "cell_type": "code",
   "execution_count": 25,
   "metadata": {},
   "outputs": [
    {
     "data": {
      "text/plain": [
       "Text(0.5, 69.0, 'Prediction ')"
      ]
     },
     "execution_count": 25,
     "metadata": {},
     "output_type": "execute_result"
    },
    {
     "data": {
      "image/png": "[encoded data removed]",
      "text/plain": [
       "<Figure size 720x720 with 2 Axes>"
      ]
     },
     "metadata": {
      "needs_background": "light"
     },
     "output_type": "display_data"
    }
   ],
   "source": [
    "#SVC turns out to be the worst \n",
    "\n",
    "sns.set_palette(sns.color_palette(\"husl\", 9))\n",
    "_, ax = plt.subplots(figsize=(10,10))\n",
    "ax = sns.heatmap(confusion_matrix(y_test, svm_pred), \n",
    "                    annot=True, fmt='d',\n",
    "                    cmap=sns.color_palette(\"husl\", 9), \n",
    "                    annot_kws={\"size\": 40, \"weight\": \"bold\"}\n",
    "                    )  \n",
    "labels = ['No Disease', 'Disease']\n",
    "ax.set_xticklabels(labels, fontsize=25);\n",
    "ax.set_yticklabels(labels, fontsize=25);\n",
    "ax.set_ylabel('Grounth Truth', fontsize=30);\n",
    "ax.set_xlabel('Prediction ', fontsize=30)"
   ]
  },
  {
   "cell_type": "markdown",
   "metadata": {},
   "source": [
    "### K-Nearest Neigbhours "
   ]
  },
  {
   "cell_type": "code",
   "execution_count": 26,
   "metadata": {},
   "outputs": [],
   "source": [
    "# KNN Model\n",
    "from sklearn.neighbors import KNeighborsClassifier\n",
    "knn = KNeighborsClassifier(n_neighbors=5, weights='distance')\n",
    "knn = knn.fit(X_train, y_train)\n",
    "yknn_pred = knn.predict(X_test)"
   ]
  },
  {
   "cell_type": "code",
   "execution_count": 27,
   "metadata": {},
   "outputs": [
    {
     "name": "stdout",
     "output_type": "stream",
     "text": [
      "              precision    recall  f1-score   support\n",
      "\n",
      "           0       0.92      0.98      0.95     87727\n",
      "           1       0.28      0.09      0.14      8212\n",
      "\n",
      "    accuracy                           0.90     95939\n",
      "   macro avg       0.60      0.54      0.54     95939\n",
      "weighted avg       0.86      0.90      0.88     95939\n",
      "\n",
      "Accuracy score:  0.9\n",
      "F1 Score:  0\n"
     ]
    }
   ],
   "source": [
    "\n",
    "print(classification_report(y_test, yknn_pred))\n",
    "print('Accuracy score: ', round(accuracy_score(y_test, yknn_pred), 2))\n",
    "print('F1 Score: ', round(f1_score(y_test, yknn_pred)))"
   ]
  },
  {
   "cell_type": "code",
   "execution_count": 28,
   "metadata": {},
   "outputs": [
    {
     "data": {
      "text/plain": [
       "Text(0.5, 69.0, 'Prediction ')"
      ]
     },
     "execution_count": 28,
     "metadata": {},
     "output_type": "execute_result"
    },
    {
     "data": {
      "image/png": "[encoded data removed]",
      "text/plain": [
       "<Figure size 720x720 with 2 Axes>"
      ]
     },
     "metadata": {
      "needs_background": "light"
     },
     "output_type": "display_data"
    }
   ],
   "source": [
    "sns.set_palette(sns.color_palette(\"husl\", 9))\n",
    "_, ax = plt.subplots(figsize=(10,10))\n",
    "ax = sns.heatmap(confusion_matrix(y_test, yknn_pred), \n",
    "                    annot=True, fmt='d',\n",
    "                    cmap=sns.color_palette(\"husl\", 9), \n",
    "                    annot_kws={\"size\": 40, \"weight\": \"bold\"}\n",
    "                    )  \n",
    "labels = ['No Disease', 'Disease']\n",
    "ax.set_xticklabels(labels, fontsize=25);\n",
    "ax.set_yticklabels(labels, fontsize=25);\n",
    "ax.set_ylabel('Grounth Truth', fontsize=30);\n",
    "ax.set_xlabel('Prediction ', fontsize=30)"
   ]
  },
  {
   "cell_type": "code",
   "execution_count": 29,
   "metadata": {},
   "outputs": [
    {
     "name": "stderr",
     "output_type": "stream",
     "text": [
      "D:\\Computer science\\lib\\site-packages\\sklearn\\svm\\_base.py:1206: ConvergenceWarning: Liblinear failed to converge, increase the number of iterations.\n",
      "  warnings.warn(\n"
     ]
    }
   ],
   "source": []
  },
  {
   "cell_type": "markdown",
   "metadata": {},
   "source": [
    "### Random Forest"
   ]
  },
  {
   "cell_type": "code",
   "execution_count": 30,
   "metadata": {},
   "outputs": [
    {
     "data": {
      "text/plain": [
       "RandomForestClassifier(class_weight={0: 1, 1: 10}, n_jobs=-1, oob_score=True,\n",
       "                       random_state=42, warm_start=True)"
      ]
     },
     "execution_count": 30,
     "metadata": {},
     "output_type": "execute_result"
    }
   ],
   "source": [
    "from sklearn.ensemble import RandomForestClassifier\n",
    "RF = RandomForestClassifier(oob_score=True, \n",
    "                            random_state=42, \n",
    "                            warm_start=True,\n",
    "                            n_jobs=-1,\n",
    "                            class_weight={0:1,1:10} )\n",
    "RF.fit(X_train,y_train)\n"
   ]
  },
  {
   "cell_type": "code",
   "execution_count": 31,
   "metadata": {},
   "outputs": [
    {
     "name": "stdout",
     "output_type": "stream",
     "text": [
      "              precision    recall  f1-score   support\n",
      "\n",
      "           0       0.92      0.98      0.95     87727\n",
      "           1       0.31      0.10      0.15      8212\n",
      "\n",
      "    accuracy                           0.90     95939\n",
      "   macro avg       0.62      0.54      0.55     95939\n",
      "weighted avg       0.87      0.90      0.88     95939\n",
      "\n",
      "Accuracy score:  0.9\n",
      "F1 Score:  0\n"
     ]
    }
   ],
   "source": [
    "rf_pred = RF.predict(X_test)\n",
    "\n",
    "print(classification_report(y_test, rf_pred))\n",
    "print('Accuracy score: ', round(accuracy_score(y_test, rf_pred), 2))\n",
    "print('F1 Score: ', round(f1_score(y_test, rf_pred)))"
   ]
  },
  {
   "cell_type": "code",
   "execution_count": 32,
   "metadata": {},
   "outputs": [
    {
     "data": {
      "text/plain": [
       "Text(0.5, 69.0, 'Prediction ')"
      ]
     },
     "execution_count": 32,
     "metadata": {},
     "output_type": "execute_result"
    },
    {
     "data": {
      "image/png": "[encoded data removed]",
      "text/plain": [
       "<Figure size 720x720 with 2 Axes>"
      ]
     },
     "metadata": {
      "needs_background": "light"
     },
     "output_type": "display_data"
    }
   ],
   "source": [
    "sns.set_palette(sns.color_palette(\"husl\", 9))\n",
    "_, ax = plt.subplots(figsize=(10,10))\n",
    "ax = sns.heatmap(confusion_matrix(y_test, rf_pred), \n",
    "                    annot=True, fmt='d',\n",
    "                    cmap=sns.color_palette(\"husl\", 9), \n",
    "                    annot_kws={\"size\": 40, \"weight\": \"bold\"}\n",
    "                    )  \n",
    "labels = ['No Disease', 'Disease']\n",
    "ax.set_xticklabels(labels, fontsize=25);\n",
    "ax.set_yticklabels(labels, fontsize=25);\n",
    "ax.set_ylabel('Grounth Truth', fontsize=30);\n",
    "ax.set_xlabel('Prediction ', fontsize=30)"
   ]
  },
  {
   "cell_type": "markdown",
   "metadata": {},
   "source": [
    "## *Summary of above models*(Observation)\n",
    "\n",
    "* So far, the logistic regression model with high class weights did the best for our needs of classifying wether a pateint will have a heart disease or not though it has a high percent of classifying a person has heart disease who might not have heart disease\n",
    "* The SVM model was better than logistic regression in classifying a person with heart who has heart disease but did extremely worse in False positive cases \n",
    "* Random Forest did better than KNN on classifying if a person doesnt have heart disease but failed to classify people with heart disease \n",
    "\n"
   ]
  }
 ],
 "metadata": {
  "interpreter": {
   "hash": "8040ec2ad0cff8d58f013f52648f683bec6c7eaf791b6d05a489d1a84c1a212f"
  },
  "kernelspec": {
   "display_name": "Python 3.9.6 64-bit",
   "language": "python",
   "name": "python3"
  },
  "language_info": {
   "codemirror_mode": {
    "name": "ipython",
    "version": 3
   },
   "file_extension": ".py",
   "mimetype": "text/x-python",
   "name": "python",
   "nbconvert_exporter": "python",
   "pygments_lexer": "ipython3",
   "version": "3.9.6"
  },
  "orig_nbformat": 4
 },
 "nbformat": 4,
 "nbformat_minor": 2
}
